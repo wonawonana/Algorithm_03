{
  "nbformat": 4,
  "nbformat_minor": 0,
  "metadata": {
    "colab": {
      "name": "newspaper_summary.ipynb",
      "provenance": [],
      "collapsed_sections": [],
      "authorship_tag": "ABX9TyPXsbzDey6NLStQjKnCZJT7"
    },
    "kernelspec": {
      "name": "python3",
      "display_name": "Python 3"
    },
    "language_info": {
      "name": "python"
    }
  },
  "cells": [
    {
      "cell_type": "markdown",
      "source": [
        "#generate summary\n",
        "####using newspaper module"
      ],
      "metadata": {
        "id": "V9TdK6jwjFBo"
      }
    },
    {
      "cell_type": "code",
      "execution_count": null,
      "metadata": {
        "id": "vxdo0Lcvi-OA"
      },
      "outputs": [],
      "source": [
        "pip install newspaper3k"
      ]
    },
    {
      "cell_type": "code",
      "source": [
        "from gensim.summarization.summarizer import summarize\n",
        "from newspaper import Article"
      ],
      "metadata": {
        "id": "iHZ3oYhZjFlN"
      },
      "execution_count": null,
      "outputs": []
    },
    {
      "cell_type": "markdown",
      "source": [
        "##get url text"
      ],
      "metadata": {
        "id": "oTxlCcKEjKzg"
      }
    },
    {
      "cell_type": "code",
      "source": [
        "url = 'https://www.etnews.com/20220304000171?mc=ns_003_00001'\n",
        "news = Article(url, language='ko')\n",
        "news.download()\n",
        "news.parse()\n",
        "print(news.text)"
      ],
      "metadata": {
        "colab": {
          "base_uri": "https://localhost:8080/"
        },
        "id": "FUdwC7IRjP0V",
        "outputId": "85ee32e0-af76-42bc-dd41-8ac3c5d33ec7"
      },
      "execution_count": null,
      "outputs": [
        {
          "output_type": "stream",
          "name": "stdout",
          "text": [
            "영국 인공지능(AI) 반도체 스타트업 그래프코어가 초당 35경번 연산이 가능한 지능형처리장치(IPU)를 출시했다. 2024년 세계 최초 '초지능 AI 컴퓨터'를 출시한다는 로드맵도 발표했다. 설립 6년 만에 대규모 투자 유치에 성공한 그래프코어는 신제품 발표로 투자 유치 속도가 가속화될 전망이다.\n",
            "\n",
            "그래프코어는 최근 세계 최초 3차원(3D) 웨이퍼 온 웨이퍼(WoW) 기술을 적용한 '보우 IPU'를 출시했다. 초대형 보우 POD 1024 모델은 350페타플롭스 AI 연산을 지원한다. 페타플롭스는 1초에 1000조번 수학 연산을 처리한다는 뜻이다. 그래프코어 신제품은 초당 최대 35경번 연산을 할 수 있다.\n",
            "\n",
            "\n",
            "\n",
            "보우 IPU는 TSMC의 WoW 패키징 기술이 적용된 첫 AI 반도체다. WoW는 반도체(다이) 간 대역폭을 높여 전력 효율을 극대화한 기술이다. 신제품은 미국 에너지부 산하 퍼시픽노스웨스트 국립연구소에 적용됐다. 기존 수일 소요되던 학습과 추론 컴퓨팅 시간을 몇시간으로 단축시켰다. 클라우드 서비스 제공업체 시라스케일과 유럽 지코어랩스 등 고객사를 확보했다.\n",
            "\n",
            "\n",
            "\n",
            "신제품 출시로 그래프코어의 AI 반도체 시장 공략 속도는 한층 빨라질 전망이다. 2016년 설립한 그래프코어는 초기 대규모 투자 유치로 공격적 연구개발(R&D)을 추진하는 회사로 유명하다. 설립 1년 만에 기술력을 인정받아 실리콘밸리 벤처캐피털로부터 50000만달러 투자를 유치했다. 지난해 하반기까지 7억1000만달러를 유치한데 이어 최근 2000만달러를 추가 투자받아 총 7억3000만달러(약 8800억원)를 달성했다.\n",
            "\n",
            "\n",
            "\n",
            "그래프코어 관계자는 “추가 투자 협의를 진행 중”이라며 “반도체 스타트업 최초로 1조원 투자 유치에 달성할 수 있을 것으로 기대한다”고 밝혔다. 국내에서는 KT 하이퍼스케일 AI 서비스와 NHN 클라우드 서비스에 그래프코어 제품이 적용됐다. 그래프코어는 2020년 한국 지사를 설립, 국내 슈퍼컴퓨터와 클라우드 데이터센터 시장을 공략 중이다.\n",
            "\n",
            "그래프코어는 보우 IPU를 포함한 신기술을 추가 확보, 초지능 AI 컴퓨터 '굿 컴퓨터'도 개발한다. 초당 10페타바이트 이상 대역폭으로 최대 4페타바이트 메모리를 제공할 수 있다. 출시 목표는 2024년으로 가격은 최대 1억2000만달러에 달할 것으로 보인다.\n",
            "\n",
            "\n",
            "\n",
            "권동준기자 djkwon@etnews.com\n"
          ]
        }
      ]
    },
    {
      "cell_type": "markdown",
      "source": [
        "##summarization"
      ],
      "metadata": {
        "id": "ybp_E_q5jSUt"
      }
    },
    {
      "cell_type": "code",
      "source": [
        "print(summarize(news.text))"
      ],
      "metadata": {
        "colab": {
          "base_uri": "https://localhost:8080/"
        },
        "id": "w1QCFy8ujQi-",
        "outputId": "8927d9b4-4375-4b6c-e679-e665a37b5acb"
      },
      "execution_count": null,
      "outputs": [
        {
          "output_type": "stream",
          "name": "stdout",
          "text": [
            "영국 인공지능(AI) 반도체 스타트업 그래프코어가 초당 35경번 연산이 가능한 지능형처리장치(IPU)를 출시했다.\n",
            "설립 6년 만에 대규모 투자 유치에 성공한 그래프코어는 신제품 발표로 투자 유치 속도가 가속화될 전망이다.\n",
            "그래프코어는 최근 세계 최초 3차원(3D) 웨이퍼 온 웨이퍼(WoW) 기술을 적용한 '보우 IPU'를 출시했다.\n",
            "그래프코어 신제품은 초당 최대 35경번 연산을 할 수 있다.\n"
          ]
        }
      ]
    }
  ]
}